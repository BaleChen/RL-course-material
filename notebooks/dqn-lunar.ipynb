{
  "cells": [
    {
      "attachments": {},
      "cell_type": "markdown",
      "id": "fd834f1b-51c4-4910-a4d6-3b212e1a2a5a",
      "metadata": {
        "id": "fd834f1b-51c4-4910-a4d6-3b212e1a2a5a"
      },
      "source": [
        "Reference: https://goodboychan.github.io/python/reinforcement_learning/pytorch/udacity/2021/05/07/DQN-LunarLander.html"
      ]
    },
    {
      "cell_type": "code",
      "execution_count": null,
      "id": "Qi4WtyL-TIGh",
      "metadata": {
        "id": "Qi4WtyL-TIGh"
      },
      "outputs": [],
      "source": [
        "!apt-get update && apt-get install swig cmake\n",
        "!pip install -q box2d-py"
      ]
    },
    {
      "cell_type": "code",
      "execution_count": 26,
      "id": "22518486-3c2f-47fe-92b3-1502875eacfe",
      "metadata": {
        "id": "22518486-3c2f-47fe-92b3-1502875eacfe"
      },
      "outputs": [],
      "source": [
        "import gym\n",
        "import os\n",
        "import random\n",
        "import torch\n",
        "import torch.nn as nn\n",
        "import torch.nn.functional as F\n",
        "import torch.optim as optim\n",
        "import matplotlib.pyplot as plt\n",
        "import base64, io\n",
        "\n",
        "import numpy as np\n",
        "from collections import deque, namedtuple\n",
        "import copy\n",
        "\n",
        "# For visualization\n",
        "from gym.wrappers.monitoring import video_recorder\n",
        "from IPython.display import HTML\n",
        "from IPython import display\n",
        "import glob\n",
        "\n",
        "import warnings\n",
        "warnings.filterwarnings(\"ignore\")"
      ]
    },
    {
      "attachments": {},
      "cell_type": "markdown",
      "id": "f75f934c-6921-43aa-8389-6df4b993eca4",
      "metadata": {
        "id": "f75f934c-6921-43aa-8389-6df4b993eca4"
      },
      "source": [
        "### Environment - LunarLander-v2\n",
        "\n",
        "Please check the [documentation](https://www.gymlibrary.dev/environments/box2d/lunar_lander/) for details."
      ]
    },
    {
      "cell_type": "code",
      "execution_count": 3,
      "id": "594828b6-da33-481d-ab42-041e8c17ffea",
      "metadata": {
        "colab": {
          "base_uri": "https://localhost:8080/"
        },
        "id": "594828b6-da33-481d-ab42-041e8c17ffea",
        "outputId": "656d3ec0-1ee2-4877-ce11-97c3a6ab83bb"
      },
      "outputs": [
        {
          "name": "stdout",
          "output_type": "stream",
          "text": [
            "State shape:  (8,)\n",
            "Number of actions:  4\n"
          ]
        }
      ],
      "source": [
        "env = gym.make('LunarLander-v2')\n",
        "env.seed(0)\n",
        "print('State shape: ', env.observation_space.shape)\n",
        "print('Number of actions: ', env.action_space.n)"
      ]
    },
    {
      "cell_type": "code",
      "execution_count": 17,
      "id": "ae834607-433e-4ed5-8b23-8de7b53230a8",
      "metadata": {
        "id": "ae834607-433e-4ed5-8b23-8de7b53230a8"
      },
      "outputs": [],
      "source": [
        "# Define MLP policy\n",
        "\n",
        "class QNetwork(nn.Module):\n",
        "    \"\"\"Actor (Policy) Model.\"\"\"\n",
        "\n",
        "    def __init__(self, state_size, action_size, seed):\n",
        "        \"\"\"Initialize parameters and build model.\n",
        "        \n",
        "        Args:\n",
        "            state_size (int): Dimension of each state\n",
        "            action_size (int): Dimension of each action\n",
        "            seed (int): Random seed\n",
        "        \"\"\"\n",
        "        super(QNetwork, self).__init__()\n",
        "        # XXX NOTE: Commenting this line to avoid conflict with deepcopy\n",
        "        # self.seed = torch.manual_seed(seed)\n",
        "\n",
        "        self.fc1 = nn.Linear(state_size, 64)\n",
        "        self.fc2 = nn.Linear(64, 64)\n",
        "        self.fc3 = nn.Linear(64, action_size)\n",
        "\n",
        "    def forward(self, state):\n",
        "        \"\"\"Build a network that maps state -> action values.\"\"\"\n",
        "        x = self.fc1(state)\n",
        "        x = F.relu(x)\n",
        "        x = self.fc2(x)\n",
        "        x = F.relu(x)\n",
        "        return self.fc3(x)"
      ]
    },
    {
      "attachments": {},
      "cell_type": "markdown",
      "id": "b0873298-cab0-4dcb-9c84-4782dc914dd7",
      "metadata": {
        "id": "b0873298-cab0-4dcb-9c84-4782dc914dd7"
      },
      "source": [
        "### Define some hyperparameter"
      ]
    },
    {
      "cell_type": "code",
      "execution_count": 18,
      "id": "7010c525-29d8-445c-8769-6cfb7d00948b",
      "metadata": {
        "id": "7010c525-29d8-445c-8769-6cfb7d00948b"
      },
      "outputs": [],
      "source": [
        "BUFFER_SIZE = int(1e5)  # replay buffer size\n",
        "BATCH_SIZE = 64         # minibatch size\n",
        "GAMMA = 0.99            # discount factor\n",
        "LR = 5e-4               # learning rate\n",
        "UPDATE_EVERY = 4        # how often to update the network\n",
        "CLONE_EVERY = int(1e4)  # how often to clone the q networks"
      ]
    },
    {
      "cell_type": "code",
      "execution_count": 19,
      "id": "334bb7d8-7d62-4cfb-96f7-f8809ba8e089",
      "metadata": {
        "id": "334bb7d8-7d62-4cfb-96f7-f8809ba8e089"
      },
      "outputs": [],
      "source": [
        "device = torch.device(\"cuda:0\" if torch.cuda.is_available() else \"cpu\")"
      ]
    },
    {
      "attachments": {},
      "cell_type": "markdown",
      "id": "1d861efe-200c-4690-9698-722abbf0b77c",
      "metadata": {
        "id": "1d861efe-200c-4690-9698-722abbf0b77c"
      },
      "source": [
        "### Define Agent"
      ]
    },
    {
      "cell_type": "code",
      "execution_count": 20,
      "id": "0530f456-2bfd-4061-ad62-f14846a9a284",
      "metadata": {
        "id": "0530f456-2bfd-4061-ad62-f14846a9a284"
      },
      "outputs": [],
      "source": [
        "class Agent():\n",
        "    \"\"\"Interacts with and learns from the environment.\"\"\"\n",
        "\n",
        "    def __init__(self, state_size, action_size, seed):\n",
        "        \"\"\"Initialize an Agent object.\n",
        "\n",
        "        Args:\n",
        "            state_size (int): dimension of each state\n",
        "            action_size (int): dimension of each action\n",
        "            seed (int): random seed\n",
        "        \"\"\"\n",
        "        self.state_size = state_size\n",
        "        self.action_size = action_size\n",
        "        self.seed = random.seed(seed)\n",
        "\n",
        "        # Q-Network\n",
        "        self.qnetwork_local = QNetwork(state_size, action_size, seed).to(device)\n",
        "        self.qnetwork_target = QNetwork(state_size, action_size, seed).to(device)\n",
        "        self.optimizer = optim.Adam(self.qnetwork_local.parameters(), lr=LR)\n",
        "\n",
        "        # Replay memory\n",
        "        self.memory = ReplayBuffer(action_size, BUFFER_SIZE, BATCH_SIZE, seed)\n",
        "        # Initialize time step (for updating every UPDATE_EVERY steps)\n",
        "        self.t_step = 0\n",
        "\n",
        "    def clone(self):\n",
        "        try:\n",
        "            del self.qnetwork_target\n",
        "        except:\n",
        "            pass\n",
        "\n",
        "        self.qnetwork_target = copy.deepcopy(self.qnetwork_local)\n",
        "\n",
        "        for p in self.qnetwork_target.parameters():\n",
        "            p.requires_grad = False\n",
        "\n",
        "        self.qnetwork_target = self.qnetwork_target.to(device)\n",
        "\n",
        "    def step(self, state, action, reward, next_state, done):\n",
        "        # Save experience in replay memory\n",
        "        self.memory.add(state, action, reward, next_state, done)\n",
        "\n",
        "        # Learn every UPDATE_EVERY time steps.\n",
        "        self.t_step += 1\n",
        "\n",
        "        if self.t_step % UPDATE_EVERY == 0:\n",
        "            # If enough samples are available in memory, get random subset and learn\n",
        "            if len(self.memory) > BATCH_SIZE:\n",
        "                experiences = self.memory.sample()\n",
        "                self.learn(experiences, GAMMA)\n",
        "\n",
        "        if self.t_step % CLONE_EVERY == 0:\n",
        "            self.clone()\n",
        "\n",
        "\n",
        "    def act(self, state, eps=0.):\n",
        "        \"\"\"Returns actions for given state as per current policy.\n",
        "\n",
        "        Args:\n",
        "            state (array_like): current state\n",
        "            eps (float): epsilon, for epsilon-greedy action selection\n",
        "        \"\"\"\n",
        "        state = torch.from_numpy(state).float().unsqueeze(0).to(device)\n",
        "        self.qnetwork_local.eval()\n",
        "        with torch.no_grad():\n",
        "            action_values = self.qnetwork_local(state)\n",
        "        self.qnetwork_local.train()\n",
        "\n",
        "        # Epsilon-greedy action selection\n",
        "        if random.random() > eps:\n",
        "            return np.argmax(action_values.cpu().data.numpy())\n",
        "        else:\n",
        "            return random.choice(np.arange(self.action_size))\n",
        "\n",
        "    def learn(self, experiences, gamma):\n",
        "        \"\"\"Update value parameters using given batch of experience tuples.\n",
        "\n",
        "        Args:\n",
        "            experiences (Tuple[torch.Variable]): tuple of (s, a, r, s', done) tuples\n",
        "            gamma (float): discount factor\n",
        "        \"\"\"\n",
        "        # Obtain random minibatch of tuples from D\n",
        "        states, actions, rewards, next_states, dones = experiences\n",
        "\n",
        "        ## Compute and minimize the loss\n",
        "        ### Extract next maximum estimated value from target network\n",
        "        q_targets_next = self.qnetwork_target(next_states).detach().max(1)[0].unsqueeze(1)\n",
        "        ### Calculate target value from bellman equation\n",
        "        q_targets = rewards + gamma * q_targets_next * (1 - dones)\n",
        "        ### Calculate expected value from local network\n",
        "        q_expected = self.qnetwork_local(states).gather(1, actions)\n",
        "\n",
        "        ### Loss calculation (we used Mean squared error)\n",
        "        loss = F.mse_loss(q_expected, q_targets)\n",
        "        self.optimizer.zero_grad()\n",
        "        loss.backward()\n",
        "        self.optimizer.step()"
      ]
    },
    {
      "attachments": {},
      "cell_type": "markdown",
      "id": "4eb5db66-ecb3-4bf4-aee1-3e18003c17b0",
      "metadata": {
        "id": "4eb5db66-ecb3-4bf4-aee1-3e18003c17b0"
      },
      "source": [
        "### Define Replay Buffer"
      ]
    },
    {
      "cell_type": "code",
      "execution_count": 21,
      "id": "f74bb08e-0b95-42db-9fc8-d609514d55af",
      "metadata": {
        "id": "f74bb08e-0b95-42db-9fc8-d609514d55af"
      },
      "outputs": [],
      "source": [
        "class ReplayBuffer:\n",
        "    \"\"\"Fixed-size buffer to store experience tuples.\"\"\"\n",
        "\n",
        "    def __init__(self, action_size, buffer_size, batch_size, seed):\n",
        "        \"\"\"Initialize a ReplayBuffer object.\n",
        "\n",
        "        Args:\n",
        "            action_size (int): dimension of each action\n",
        "            buffer_size (int): maximum size of buffer\n",
        "            batch_size (int): size of each training batch\n",
        "            seed (int): random seed\n",
        "        \"\"\"\n",
        "        self.action_size = action_size\n",
        "        self.memory = deque(maxlen=buffer_size)\n",
        "        self.batch_size = batch_size\n",
        "        self.experience = namedtuple(\"Experience\", field_names=[\"state\", \"action\", \"reward\", \"next_state\", \"done\"])\n",
        "        self.seed = random.seed(seed)\n",
        "\n",
        "    def add(self, state, action, reward, next_state, done):\n",
        "        \"\"\"Add a new experience to memory.\"\"\"\n",
        "        e = self.experience(state, action, reward, next_state, done)\n",
        "        self.memory.append(e)\n",
        "\n",
        "    def sample(self):\n",
        "        \"\"\"Randomly sample a batch of experiences from memory.\"\"\"\n",
        "        experiences = random.sample(self.memory, k=self.batch_size)\n",
        "\n",
        "        states = torch.from_numpy(np.vstack([e.state for e in experiences if e is not None])).float().to(device)\n",
        "        actions = torch.from_numpy(np.vstack([e.action for e in experiences if e is not None])).long().to(device)\n",
        "        rewards = torch.from_numpy(np.vstack([e.reward for e in experiences if e is not None])).float().to(device)\n",
        "        next_states = torch.from_numpy(np.vstack([e.next_state for e in experiences if e is not None])).float().to(device)\n",
        "        dones = torch.from_numpy(np.vstack([e.done for e in experiences if e is not None]).astype(np.uint8)).float().to(device)\n",
        "\n",
        "        return (states, actions, rewards, next_states, dones)\n",
        "\n",
        "    def __len__(self):\n",
        "        \"\"\"Return the current size of internal memory.\"\"\"\n",
        "        return len(self.memory)"
      ]
    },
    {
      "attachments": {},
      "cell_type": "markdown",
      "id": "6bd61b8d-b63e-444f-9cb7-6295df46995d",
      "metadata": {
        "id": "6bd61b8d-b63e-444f-9cb7-6295df46995d"
      },
      "source": [
        "### Training Process"
      ]
    },
    {
      "cell_type": "code",
      "execution_count": 22,
      "id": "c907ab57-ed48-4824-b27c-8c7d707d6919",
      "metadata": {
        "colab": {
          "base_uri": "https://localhost:8080/"
        },
        "id": "c907ab57-ed48-4824-b27c-8c7d707d6919",
        "outputId": "4f42eb1f-91e8-459c-f0a1-3e2001222fdc"
      },
      "outputs": [
        {
          "name": "stdout",
          "output_type": "stream",
          "text": [
            "Episode 100\tAverage Score: -175.56\n",
            "Episode 200\tAverage Score: -121.14\n",
            "Episode 300\tAverage Score: -78.25\n",
            "Episode 400\tAverage Score: -31.80\n",
            "Episode 500\tAverage Score: -51.32\n",
            "Episode 600\tAverage Score: -44.37\n",
            "Episode 700\tAverage Score: -44.65\n",
            "Episode 800\tAverage Score: 7.36\n",
            "Episode 900\tAverage Score: -5.48\n",
            "Episode 1000\tAverage Score: -27.18\n",
            "Episode 1100\tAverage Score: 81.34\n",
            "Episode 1200\tAverage Score: 139.68\n",
            "Episode 1300\tAverage Score: 187.01\n",
            "Episode 1318\tAverage Score: 200.75\n",
            "Environment solved in 1218 episodes!\tAverage Score: 200.75\n"
          ]
        }
      ],
      "source": [
        "def dqn(n_episodes=2000, max_t=1000, eps_start=1.0, eps_end=0.01, eps_decay=0.995):\n",
        "    \"\"\"Deep Q-Learning.\n",
        "\n",
        "    Args:\n",
        "        n_episodes (int): maximum number of training episodes\n",
        "        max_t (int): maximum number of timesteps per episode\n",
        "        eps_start (float): starting value of epsilon, for epsilon-greedy action selection\n",
        "        eps_end (float): minimum value of epsilon\n",
        "        eps_decay (float): multiplicative factor (per episode) for decreasing epsilon\n",
        "    \"\"\"\n",
        "    scores = []                        # list containing scores from each episode\n",
        "    scores_window = deque(maxlen=100)  # last 100 scores\n",
        "    eps = eps_start                    # initialize epsilon\n",
        "    for i_episode in range(1, n_episodes+1):\n",
        "        state = env.reset()\n",
        "        score = 0\n",
        "        for t in range(max_t):\n",
        "            action = agent.act(state, eps)\n",
        "            next_state, reward, done, _ = env.step(action)\n",
        "            agent.step(state, action, reward, next_state, done)\n",
        "            state = next_state\n",
        "            score += reward\n",
        "            if done:\n",
        "                break\n",
        "        scores_window.append(score)       # save most recent score\n",
        "        scores.append(score)              # save most recent score\n",
        "        eps = max(eps_end, eps_decay*eps) # decrease epsilon\n",
        "        print('\\rEpisode {}\\tAverage Score: {:.2f}'.format(i_episode, np.mean(scores_window)), end=\"\")\n",
        "        if i_episode % 100 == 0:\n",
        "            print('\\rEpisode {}\\tAverage Score: {:.2f}'.format(i_episode, np.mean(scores_window)))\n",
        "        if np.mean(scores_window)>=200.0:\n",
        "            print('\\nEnvironment solved in {:d} episodes!\\tAverage Score: {:.2f}'.format(i_episode-100, np.mean(scores_window)))\n",
        "            torch.save(agent.qnetwork_local.state_dict(), 'checkpoint.pth')\n",
        "            break\n",
        "    return scores\n",
        "\n",
        "agent = Agent(state_size=8, action_size=4, seed=0)\n",
        "scores = dqn()"
      ]
    },
    {
      "attachments": {},
      "cell_type": "markdown",
      "id": "1ba6726a-977a-4345-8897-021302bfc262",
      "metadata": {
        "id": "1ba6726a-977a-4345-8897-021302bfc262"
      },
      "source": [
        "### Plot the learning progress"
      ]
    },
    {
      "cell_type": "code",
      "execution_count": 23,
      "id": "d2d491c9-a5dc-4c32-a95d-796f85c60c83",
      "metadata": {
        "colab": {
          "base_uri": "https://localhost:8080/",
          "height": 449
        },
        "id": "d2d491c9-a5dc-4c32-a95d-796f85c60c83",
        "outputId": "c05680e1-90e1-4a3b-e19b-9b38cb2fe811"
      },
      "outputs": [
        {
          "data": {
            "image/png": "[encoded data removed]",
            "text/plain": [
              "<Figure size 640x480 with 1 Axes>"
            ]
          },
          "metadata": {},
          "output_type": "display_data"
        }
      ],
      "source": [
        "# plot the scores\n",
        "plt.plot(np.arange(len(scores)), scores)\n",
        "plt.ylabel('Episode Reward')\n",
        "plt.xlabel('Episode #')\n",
        "plt.show()"
      ]
    },
    {
      "attachments": {},
      "cell_type": "markdown",
      "id": "ebb450a9-c530-4f10-b629-53a2d69860c2",
      "metadata": {
        "id": "ebb450a9-c530-4f10-b629-53a2d69860c2"
      },
      "source": [
        "### Animate it with Video"
      ]
    },
    {
      "cell_type": "code",
      "execution_count": 24,
      "id": "c9806a31-f777-468e-8987-0139708ef532",
      "metadata": {
        "id": "c9806a31-f777-468e-8987-0139708ef532"
      },
      "outputs": [],
      "source": [
        "def show_video(env_name):\n",
        "    mp4list = glob.glob('video/*.mp4')\n",
        "    if len(mp4list) > 0:\n",
        "        mp4 = 'video/{}.mp4'.format(env_name)\n",
        "        video = io.open(mp4, 'r+b').read()\n",
        "        encoded = base64.b64encode(video)\n",
        "        display.display(HTML(data='''<video alt=\"test\" autoplay\n",
        "                loop controls style=\"height: 400px;\">\n",
        "                <source src=\"data:video/mp4;base64,{0}\" type=\"video/mp4\" />\n",
        "             </video>'''.format(encoded.decode('ascii'))))\n",
        "    else:\n",
        "        print(\"Could not find video\")\n",
        "\n",
        "def show_video_of_model(agent, env_name):\n",
        "    env = gym.make(env_name)\n",
        "    vid = video_recorder.VideoRecorder(env, path=\"video/{}.mp4\".format(env_name))\n",
        "    agent.qnetwork_local.load_state_dict(torch.load('checkpoint.pth'))\n",
        "    state = env.reset()\n",
        "    done = False\n",
        "    while not done:\n",
        "        frame = env.render(mode='rgb_array')\n",
        "        vid.capture_frame()\n",
        "\n",
        "        action = agent.act(state)\n",
        "\n",
        "        state, reward, done, _ = env.step(action)\n",
        "    env.close()"
      ]
    },
    {
      "cell_type": "code",
      "execution_count": 27,
      "id": "N-P-IBUgo0YP",
      "metadata": {
        "id": "N-P-IBUgo0YP"
      },
      "outputs": [],
      "source": [
        "!mkdir video"
      ]
    },
    {
      "cell_type": "code",
      "execution_count": 28,
      "id": "4beb1d45-ab9a-4fd7-a769-017bbf1672e1",
      "metadata": {
        "id": "4beb1d45-ab9a-4fd7-a769-017bbf1672e1"
      },
      "outputs": [],
      "source": [
        "agent = Agent(state_size=8, action_size=4, seed=0)\n",
        "show_video_of_model(agent, 'LunarLander-v2')"
      ]
    },
    {
      "cell_type": "code",
      "execution_count": 29,
      "id": "f54ee0a0-265b-4161-bbb6-25e28543aa2e",
      "metadata": {
        "colab": {
          "base_uri": "https://localhost:8080/",
          "height": 422
        },
        "id": "f54ee0a0-265b-4161-bbb6-25e28543aa2e",
        "outputId": "41b0a099-18e8-4210-894a-4e717c36a9d0"
      },
      "outputs": [
        {
          "data": {
            "text/html": [
              "<video alt=\"test\" autoplay\n",
              "                loop controls style=\"height: 400px;\">\n",
              "                <source src=\"data:video/mp4;base64,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\" type=\"video/mp4\" />\n",
              "             </video>"
            ],
            "text/plain": [
              "<IPython.core.display.HTML object>"
            ]
          },
          "metadata": {},
          "output_type": "display_data"
        }
      ],
      "source": [
        "show_video('LunarLander-v2')"
      ]
    }
  ],
  "metadata": {
    "accelerator": "GPU",
    "colab": {
      "gpuType": "T4",
      "provenance": []
    },
    "kernelspec": {
      "display_name": "Python 3",
      "name": "python3"
    },
    "language_info": {
      "codemirror_mode": {
        "name": "ipython",
        "version": 3
      },
      "file_extension": ".py",
      "mimetype": "text/x-python",
      "name": "python",
      "nbconvert_exporter": "python",
      "pygments_lexer": "ipython3",
      "version": "3.7.10"
    }
  },
  "nbformat": 4,
  "nbformat_minor": 5
}
